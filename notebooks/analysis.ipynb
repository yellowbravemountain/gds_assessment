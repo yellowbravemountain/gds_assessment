{
 "cells": [
  {
   "cell_type": "markdown",
   "metadata": {},
   "source": [
    "Extract the following fields and store the data as restaurants.csv.\n",
    "* Restaurant Id\n",
    "* Restaurant Name\n",
    "* Country\n",
    "* City\n",
    "* User Rating Votes\n",
    "* User Aggregate Rating (in float)\n",
    "* Cuisines\n"
   ]
  },
  {
   "cell_type": "code",
   "execution_count": 8,
   "metadata": {},
   "outputs": [
    {
     "data": {
      "text/html": [
       "<div>\n",
       "<style scoped>\n",
       "    .dataframe tbody tr th:only-of-type {\n",
       "        vertical-align: middle;\n",
       "    }\n",
       "\n",
       "    .dataframe tbody tr th {\n",
       "        vertical-align: top;\n",
       "    }\n",
       "\n",
       "    .dataframe thead th {\n",
       "        text-align: right;\n",
       "    }\n",
       "</style>\n",
       "<table border=\"1\" class=\"dataframe\">\n",
       "  <thead>\n",
       "    <tr style=\"text-align: right;\">\n",
       "      <th></th>\n",
       "      <th>results_found</th>\n",
       "      <th>results_start</th>\n",
       "      <th>results_shown</th>\n",
       "      <th>restaurants</th>\n",
       "    </tr>\n",
       "  </thead>\n",
       "  <tbody>\n",
       "    <tr>\n",
       "      <th>0</th>\n",
       "      <td>29287</td>\n",
       "      <td>1</td>\n",
       "      <td>20</td>\n",
       "      <td>[{'restaurant': {'R': {'res_id': 18649486}, 'a...</td>\n",
       "    </tr>\n",
       "    <tr>\n",
       "      <th>1</th>\n",
       "      <td>7625</td>\n",
       "      <td>1</td>\n",
       "      <td>20</td>\n",
       "      <td>[{'restaurant': {'R': {'res_id': 18707652}, 'a...</td>\n",
       "    </tr>\n",
       "    <tr>\n",
       "      <th>2</th>\n",
       "      <td>21776</td>\n",
       "      <td>1</td>\n",
       "      <td>20</td>\n",
       "      <td>[{'restaurant': {'R': {'res_id': 18392725}, 'a...</td>\n",
       "    </tr>\n",
       "    <tr>\n",
       "      <th>3</th>\n",
       "      <td>16762</td>\n",
       "      <td>1</td>\n",
       "      <td>20</td>\n",
       "      <td>[{'restaurant': {'R': {'res_id': 58882}, 'apik...</td>\n",
       "    </tr>\n",
       "    <tr>\n",
       "      <th>4</th>\n",
       "      <td>12026</td>\n",
       "      <td>1</td>\n",
       "      <td>20</td>\n",
       "      <td>[{'restaurant': {'R': {'res_id': 18893197}, 'a...</td>\n",
       "    </tr>\n",
       "  </tbody>\n",
       "</table>\n",
       "</div>"
      ],
      "text/plain": [
       "   results_found  results_start  results_shown  \\\n",
       "0          29287              1             20   \n",
       "1           7625              1             20   \n",
       "2          21776              1             20   \n",
       "3          16762              1             20   \n",
       "4          12026              1             20   \n",
       "\n",
       "                                         restaurants  \n",
       "0  [{'restaurant': {'R': {'res_id': 18649486}, 'a...  \n",
       "1  [{'restaurant': {'R': {'res_id': 18707652}, 'a...  \n",
       "2  [{'restaurant': {'R': {'res_id': 18392725}, 'a...  \n",
       "3  [{'restaurant': {'R': {'res_id': 58882}, 'apik...  \n",
       "4  [{'restaurant': {'R': {'res_id': 18893197}, 'a...  "
      ]
     },
     "execution_count": 8,
     "metadata": {},
     "output_type": "execute_result"
    }
   ],
   "source": [
    "import pandas as pd\n",
    "\n",
    "#load the restaurant data from JSON\n",
    "restaurant_data = pd.read_json(r'C:\\Users\\valkr\\Desktop\\Data Engineer CC4\\gds_assessment\\input\\restaurant_data.json')\n",
    "\n",
    "#display the first few rows to understand the structure\n",
    "restaurant_data.head()\n"
   ]
  },
  {
   "cell_type": "code",
   "execution_count": 10,
   "metadata": {},
   "outputs": [
    {
     "data": {
      "text/html": [
       "<div>\n",
       "<style scoped>\n",
       "    .dataframe tbody tr th:only-of-type {\n",
       "        vertical-align: middle;\n",
       "    }\n",
       "\n",
       "    .dataframe tbody tr th {\n",
       "        vertical-align: top;\n",
       "    }\n",
       "\n",
       "    .dataframe thead th {\n",
       "        text-align: right;\n",
       "    }\n",
       "</style>\n",
       "<table border=\"1\" class=\"dataframe\">\n",
       "  <thead>\n",
       "    <tr style=\"text-align: right;\">\n",
       "      <th></th>\n",
       "      <th>Country Code</th>\n",
       "      <th>Country</th>\n",
       "    </tr>\n",
       "  </thead>\n",
       "  <tbody>\n",
       "    <tr>\n",
       "      <th>0</th>\n",
       "      <td>1</td>\n",
       "      <td>India</td>\n",
       "    </tr>\n",
       "    <tr>\n",
       "      <th>1</th>\n",
       "      <td>14</td>\n",
       "      <td>Australia</td>\n",
       "    </tr>\n",
       "    <tr>\n",
       "      <th>2</th>\n",
       "      <td>30</td>\n",
       "      <td>Brazil</td>\n",
       "    </tr>\n",
       "    <tr>\n",
       "      <th>3</th>\n",
       "      <td>37</td>\n",
       "      <td>Canada</td>\n",
       "    </tr>\n",
       "    <tr>\n",
       "      <th>4</th>\n",
       "      <td>94</td>\n",
       "      <td>Indonesia</td>\n",
       "    </tr>\n",
       "  </tbody>\n",
       "</table>\n",
       "</div>"
      ],
      "text/plain": [
       "   Country Code    Country\n",
       "0             1      India\n",
       "1            14  Australia\n",
       "2            30     Brazil\n",
       "3            37     Canada\n",
       "4            94  Indonesia"
      ]
     },
     "execution_count": 10,
     "metadata": {},
     "output_type": "execute_result"
    }
   ],
   "source": [
    "#load country code data\n",
    "country_codes = pd.read_excel(r'C:\\Users\\valkr\\Desktop\\Data Engineer CC4\\gds_assessment\\input\\Country-Code.xlsx')\n",
    "\n",
    "#display the first few rows to understand the structure\n",
    "country_codes.head()\n"
   ]
  }
 ],
 "metadata": {
  "kernelspec": {
   "display_name": "Python 3",
   "language": "python",
   "name": "python3"
  },
  "language_info": {
   "codemirror_mode": {
    "name": "ipython",
    "version": 3
   },
   "file_extension": ".py",
   "mimetype": "text/x-python",
   "name": "python",
   "nbconvert_exporter": "python",
   "pygments_lexer": "ipython3",
   "version": "3.11.5"
  }
 },
 "nbformat": 4,
 "nbformat_minor": 2
}
